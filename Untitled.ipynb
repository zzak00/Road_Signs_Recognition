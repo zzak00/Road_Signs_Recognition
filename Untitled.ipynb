{
 "cells": [
  {
   "cell_type": "code",
   "execution_count": 4,
   "metadata": {},
   "outputs": [
    {
     "name": "stdout",
     "output_type": "stream",
     "text": [
      "INFO:tensorflow:Assets written to: /tmp/tmpgwc3lptx/assets\n"
     ]
    },
    {
     "name": "stderr",
     "output_type": "stream",
     "text": [
      "INFO:tensorflow:Assets written to: /tmp/tmpgwc3lptx/assets\n"
     ]
    },
    {
     "data": {
      "text/plain": [
       "368768"
      ]
     },
     "execution_count": 4,
     "metadata": {},
     "output_type": "execute_result"
    }
   ],
   "source": [
    "import tensorflow as tf\n",
    "from tensorflow import keras\n",
    "\n",
    "# from  tensorflow.lite.python import convert_saved_model\n",
    "\n",
    "model = keras.models.load_model('model.h5')\n",
    "keras_file = 'tf_lite/saved_model.h5'\n",
    "#keras.models.save_model(model, keras_file)\n",
    "\n",
    "#model = tf.saved_model.load(save_path)\n",
    "#convert to TFLite\n",
    "\n",
    "# converter = tf.lite.TFLiteConverter.from_keras_model(model)\n",
    "# converter.optimizations = [tf.lite.Optimize.DEFAULT]\n",
    "# tflite_model = converter.convert()\n",
    "\n",
    "\n",
    "###Trying to get full int quantization\n",
    "# import tensorflow.python.ops.numpy_ops.np_config\n",
    "\n",
    "# np_config.enable_numpy_behavior()\n",
    "\n",
    "# def representative_dataset():\n",
    "#   for data in tf.data.Dataset.from_tensor_slices((df.pixels)).batch(1).take(100):\n",
    "#     yield [data.astype]#(tf.float32)]\n",
    "\n",
    "# converter = tf.lite.TFLiteConverter.from_keras_model(model)\n",
    "# converter.optimizations = [tf.lite.Optimize.DEFAULT]\n",
    "# converter.representative_dataset = representative_dataset\n",
    "# converter.target_spec.supported_ops = [tf.lite.OpsSet.TFLITE_BUILTINS_INT8]\n",
    "# converter.inference_input_type = tf.int8  # or tf.uint8\n",
    "# converter.inference_output_type = tf.int8  # or tf.uint8\n",
    "# tflite_quant_model = converter.convert()\n",
    "\n",
    "converter = tf.lite.TFLiteConverter.from_keras_model(model)\n",
    "converter.optimizations = [tf.lite.Optimize.DEFAULT]\n",
    "converter.experimental_new_converter = True\n",
    "tflite_model = converter.convert()\n",
    "\n",
    "# converter = tf.lite.TFLiteConverter.from_saved_model(model)\n",
    "# converter = tf.lite.TFLiteConverter.from_keras_model(model)\n",
    "# converter.optimizations = [tf.lite.Optimize.DEFAULT]\n",
    "# tflite_model = convert_saved_model.tflite_from_saved_model()\n",
    "open('emotions.tflite', 'wb').write(tflite_model)\n",
    "\n"
   ]
  },
  {
   "cell_type": "code",
   "execution_count": 5,
   "metadata": {},
   "outputs": [
    {
     "name": "stdout",
     "output_type": "stream",
     "text": [
      " \u001b[0m\u001b[01;34mdataset\u001b[0m/          \u001b[01;35mMVI_1049.avi\u001b[0m                     'Signs Detection.py'\r\n",
      " emotions.tflite   \u001b[01;34mmyData\u001b[0m/                           \u001b[01;35mtest.png\u001b[0m\r\n",
      " \u001b[01;34mimgs_test\u001b[0m/        \u001b[01;34mnew_data\u001b[0m/                         test.py\r\n",
      " \u001b[01;31mimgs_test.zip\u001b[0m     \u001b[01;35moutput.avi\u001b[0m                        \u001b[01;34mtf_lite\u001b[0m/\r\n",
      " labels.csv        Output.txt                        train.py\r\n",
      " main.py           requirements.txt                  Untitled.ipynb\r\n",
      "\u001b[01;34m'main signs'\u001b[0m/     'Signs Classification DS2.ipynb'   \u001b[01;34mvenv\u001b[0m/\r\n",
      " model.h5         'Signs Classification.ipynb'\r\n",
      " model_trained.p  'Signs Detection.ipynb'\r\n"
     ]
    }
   ],
   "source": []
  },
  {
   "cell_type": "code",
   "execution_count": null,
   "metadata": {},
   "outputs": [],
   "source": []
  }
 ],
 "metadata": {
  "kernelspec": {
   "display_name": "Python 3",
   "language": "python",
   "name": "python3"
  },
  "language_info": {
   "codemirror_mode": {
    "name": "ipython",
    "version": 3
   },
   "file_extension": ".py",
   "mimetype": "text/x-python",
   "name": "python",
   "nbconvert_exporter": "python",
   "pygments_lexer": "ipython3",
   "version": "3.8.5"
  }
 },
 "nbformat": 4,
 "nbformat_minor": 4
}
